{
 "cells": [
  {
   "cell_type": "code",
   "execution_count": 14,
   "metadata": {},
   "outputs": [
    {
     "name": "stdout",
     "output_type": "stream",
     "text": [
      "(scientist(name='Ada Lovelace', field='math', born=1815, nobel=False),\n",
      " scientist(name='Emmy Noether', field='math', born=1882, nobel=False),\n",
      " scientist(name='Marie Curie', field='math', born=1867, nobel=True),\n",
      " scientist(name='Tu Youyou', field='physics', born=1930, nobel=True),\n",
      " scientist(name='Ada Yonath', field='chemistry', born=1939, nobel=True),\n",
      " scientist(name='Vera Rubin', field='chemistry', born=1928, nobel=False),\n",
      " scientist(name='Sally Ride', field='physics', born=1951, nobel=False))\n"
     ]
    },
    {
     "data": {
      "text/plain": [
       "'Ada Lovelace'"
      ]
     },
     "execution_count": 14,
     "metadata": {},
     "output_type": "execute_result"
    }
   ],
   "source": [
    "import collections\n",
    "from pprint import pprint\n",
    "\n",
    "scientist = collections.namedtuple('scientist', [\n",
    "    'name',\n",
    "    'field',\n",
    "    'born',\n",
    "    'nobel'\n",
    "])\n",
    "\n",
    "scientist\n",
    "scientist(name='Ada Lovelace', field='math', born=1815, nobel=False)\n",
    "ada = scientist(name='Ada Lovelace', field='math', born=1815, nobel=False)\n",
    "ada.field\n",
    "\n",
    "data = (scientist(name='Ada Lovelace', field='math', born=1815, nobel=False),\n",
    "    scientist(name='Emmy Noether', field='math', born=1882, nobel=False),\n",
    "    scientist(name='Marie Curie', field='math', born=1867, nobel=True),\n",
    "    scientist(name='Tu Youyou', field='physics', born=1930, nobel=True),\n",
    "    scientist(name='Ada Yonath', field='chemistry', born=1939, nobel=True),\n",
    "    scientist(name='Vera Rubin', field='chemistry', born=1928, nobel=False),\n",
    "    scientist(name='Sally Ride', field='physics', born=1951, nobel=False),) #this is a tuple, dont use a list, because a list is mutable!\n",
    "\n",
    "pprint(data)\n",
    "data[0].name"
   ]
  },
  {
   "cell_type": "code",
   "execution_count": null,
   "metadata": {},
   "outputs": [],
   "source": []
  }
 ],
 "metadata": {
  "interpreter": {
   "hash": "b9e93e0a25cacffe48b556e398a39ff94fa6565711c04219c5faa76971514662"
  },
  "kernelspec": {
   "display_name": "Python 3.8.5 ('base')",
   "language": "python",
   "name": "python3"
  },
  "language_info": {
   "codemirror_mode": {
    "name": "ipython",
    "version": 3
   },
   "file_extension": ".py",
   "mimetype": "text/x-python",
   "name": "python",
   "nbconvert_exporter": "python",
   "pygments_lexer": "ipython3",
   "version": "3.8.5"
  },
  "orig_nbformat": 4
 },
 "nbformat": 4,
 "nbformat_minor": 2
}
