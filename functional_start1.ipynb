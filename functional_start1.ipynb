{
 "cells": [
  {
   "cell_type": "markdown",
   "metadata": {},
   "source": [
    "# Functional programing\n",
    "## First steps"
   ]
  },
  {
   "cell_type": "markdown",
   "metadata": {},
   "source": [
    "Easy examples and exercises"
   ]
  },
  {
   "cell_type": "code",
   "execution_count": 11,
   "metadata": {},
   "outputs": [],
   "source": [
    "from functools import reduce"
   ]
  },
  {
   "cell_type": "code",
   "execution_count": 24,
   "metadata": {},
   "outputs": [],
   "source": [
    "def summe(xs: list) ->int:\n",
    "    return reduce(lambda x1, x2: x1+x2, xs, 0)"
   ]
  },
  {
   "cell_type": "code",
   "execution_count": 25,
   "metadata": {},
   "outputs": [],
   "source": [
    "def add1(a,b):\n",
    "    return a+b\n",
    "\n",
    "def add(a):\n",
    "    def add_a(b):\n",
    "        return a+b\n",
    "    return add_a\n",
    "\n"
   ]
  },
  {
   "cell_type": "code",
   "execution_count": 12,
   "metadata": {},
   "outputs": [],
   "source": [
    "def multiplicate_list(xs: list, k: int) -> list:\n",
    "    return [x * k for x in xs]"
   ]
  },
  {
   "cell_type": "code",
   "execution_count": 13,
   "metadata": {},
   "outputs": [
    {
     "data": {
      "text/plain": [
       "[2, 6, 10, 14]"
      ]
     },
     "execution_count": 13,
     "metadata": {},
     "output_type": "execute_result"
    }
   ],
   "source": [
    "multiplicate_list([1,3,5,7], 2)"
   ]
  },
  {
   "cell_type": "code",
   "execution_count": 22,
   "metadata": {},
   "outputs": [
    {
     "data": {
      "text/plain": [
       "144"
      ]
     },
     "execution_count": 22,
     "metadata": {},
     "output_type": "execute_result"
    }
   ],
   "source": [
    "def my_prod(a, b):\n",
    "    return a*b\n",
    "\n",
    "numbers = [1,2,3,4,6]\n",
    "\n",
    "reduce(my_prod, numbers)\n"
   ]
  },
  {
   "cell_type": "code",
   "execution_count": 54,
   "metadata": {},
   "outputs": [
    {
     "data": {
      "text/plain": [
       "144"
      ]
     },
     "execution_count": 54,
     "metadata": {},
     "output_type": "execute_result"
    }
   ],
   "source": [
    "reduce(lambda a, b: a*b, numbers)\n"
   ]
  },
  {
   "cell_type": "markdown",
   "metadata": {},
   "source": [
    "* anzahl_gerade mit reduce und filter aus einer Liste\n",
    "* eine Funktion curry, die aus Funktionen mit beliebig vielen Parametern eine neue macht, deren erster Parameter fixiert ist\n",
    "* mein_filter nur mit reduce [reduce(function, iterable, initializier)]"
   ]
  },
  {
   "cell_type": "code",
   "execution_count": 81,
   "metadata": {},
   "outputs": [
    {
     "data": {
      "text/plain": [
       "3"
      ]
     },
     "execution_count": 81,
     "metadata": {},
     "output_type": "execute_result"
    }
   ],
   "source": [
    "def anzahl_gerade(xs: list) -> int:\n",
    "    return reduce(lambda a,b: a+1, filter(lambda x: x % 2 == 0, xs),0 )\n",
    "#wieso benötige ich ein b? function of reduce needs two or three inputs\n",
    "\n",
    "def anzahl_gerade1(xs: list) -> int:\n",
    "    return reduce(lambda a,b: a+1, [x for x in xs if x % 2 == 0], 0)\n",
    "#Kombi reduce und comprehension list\n",
    "\n",
    "anzahl_gerade1(numbers)"
   ]
  },
  {
   "cell_type": "code",
   "execution_count": 2,
   "metadata": {},
   "outputs": [
    {
     "data": {
      "text/plain": [
       "11"
      ]
     },
     "execution_count": 2,
     "metadata": {},
     "output_type": "execute_result"
    }
   ],
   "source": [
    "def curry(fct: callable, x: int) -> callable:\n",
    "    return lambda *args: fct(x,*args)\n",
    "\n",
    "#wenn nur zwei Argumente, dann anstelle *args \"a,b\" -> dann darf summe[fct] nur zwei \n",
    "\n",
    "def summe(t,w,y,z): return w+y+z+t\n",
    "\n",
    "test=curry(summe,2) # mit \"2\" weise ich die Variable 2 t zu, daher benötige ich bei test nur 3 Variablen\n",
    "\n",
    "test(2,3,4) # wieso benötigt es 3 Variablen? Siehe Zeile oben\n"
   ]
  },
  {
   "cell_type": "code",
   "execution_count": 37,
   "metadata": {},
   "outputs": [
    {
     "data": {
      "text/plain": [
       "[2, 3, 4, 6]"
      ]
     },
     "execution_count": 37,
     "metadata": {},
     "output_type": "execute_result"
    }
   ],
   "source": [
    "def mein_filter(fct: callable, xs: list) -> list:\n",
    "    return reduce(lambda a, b: a+[b] if fct(b) is True else a, xs, [])\n",
    "    #[] weil ich Liste will\n",
    "\n",
    "def mein_filter1(fct: callable, xs: list) -> list:\n",
    "    return [x for x in xs if fct(x) is True]\n",
    "\n",
    "#def mein_filter2(fct: callable, xs: list) -> list:\n",
    "    #return [f(x) for x in xs] --> gibt mir nur true, false raus\n",
    "\n",
    "mein_filter(lambda x: x>1, numbers)"
   ]
  },
  {
   "cell_type": "markdown",
   "metadata": {},
   "source": [
    "# Fibonacci - Zahlen\n",
    "Jede Fibonacci-Zahl ist also die Summe der beiden vorhergehenden Fibonacci-Zahlen.\n",
    "Der Beginn der Folge lautet: 0, 1, 1, 2, 3, 5, 8, 13, 21 ...\n"
   ]
  },
  {
   "cell_type": "code",
   "execution_count": 5,
   "metadata": {},
   "outputs": [
    {
     "name": "stdout",
     "output_type": "stream",
     "text": [
      "55 177\n"
     ]
    }
   ],
   "source": [
    "cnt = 0 # Um eine Vorstellung zu bekommen, wie oft die Funktion fibonacci_rec (rekursiv) aufgrufen wird, kann man einen Zähler einbauen\n",
    "\n",
    "def fibonacci_rec(n: int) -> int:\n",
    "    global cnt\n",
    "    cnt += 1\n",
    "    return n if n <= 1 else fibonacci_rec(n - 1) + fibonacci_rec(n - 2)\n",
    "print(fibonacci_rec(10), cnt)\n",
    "\n"
   ]
  },
  {
   "cell_type": "markdown",
   "metadata": {},
   "source": [
    "Diskutiere aus der Perspektive der Prinzipien der Funktionalen Programmierung, was beim Programmieren durch Einfügen oder Weglassen einer global-Anweisung ausgedrückt wird. Oder andersherum: \n",
    "Welche bei der Funktionalen Programmierung interessante Eigenschaft hat eine Funktion, die keine\n",
    "global-Anweisung enthält?\n",
    "\n",
    "*global ausserhalb der Funktion definierte Variable kann innerhalb der Funktion nicht modifiziert werden. Rufen wir dieselbe Variable mit global in einer Funktion auf, verändern wir auch den Wert ausserhalb der Funktion (-> global eben). Konkret bedeutet das, wenn wir mit global innerhalb einer Funktion arbeiten, haben wir Nebeneffekte, die wir bei der funktionalen Programmierung nicht haben möchten.*"
   ]
  },
  {
   "cell_type": "markdown",
   "metadata": {},
   "source": [
    "Die Funktion mit diesem Zähler ist nicht pure. Kannst Du diese Funktion so programmieren, dass sie im \n",
    "Sinne der funktionalen Programmierung pure ist? (Tipp: Funktionswerte können mehr als eine Zahl umfassen!)"
   ]
  },
  {
   "cell_type": "code",
   "execution_count": 40,
   "metadata": {},
   "outputs": [
    {
     "name": "stdout",
     "output_type": "stream",
     "text": [
      "(((1, 1, 0, 1), 0, 1, 1), 0)\n"
     ]
    }
   ],
   "source": [
    "#Aufgabe 2\n",
    "\n",
    "def fibonacci_rec(n: int) -> int:\n",
    "    counter=0\n",
    "    return (n, 1) if n <= 1 else (fibonacci_rec(n - 1) + fibonacci_rec(n - 2),counter)\n",
    "print(fibonacci_rec(3))\n"
   ]
  },
  {
   "cell_type": "markdown",
   "metadata": {},
   "source": [
    "Ein Vorteil der Funktionalen Programmierung ist, dass Funktionen für dieselben Argumente immer denselben Funktionswert ergeben. Wenn man das weiss, kann die Berechnung der Fibonacci-Zahlen beschleunigt werden, indem einmal berechnete Funktionswerte gespeichert und später bei Bedarf einfach \n",
    "abgerufen werden. Die dafür ideale Datenstruktur ist ein Dictionary mit den Parameter-Werten als key\n",
    "und dem Funktionswert als value. Bei jedem Aufruf der Funktion prüft diese zunächst, ob die angegebenen Parameterwerte bereits im Dictionary enthalten sind. Nur wenn das nicht der Fall ist, wird der Funktionswert tatsächlich berechnet und das Ergebnis dann in das Dictionary eingetragen. Ansonsten kann der \n",
    "im Dictionary gespeicherte Funktionswert direkt und ohne Berechnung retourniert werden."
   ]
  },
  {
   "cell_type": "code",
   "execution_count": 10,
   "metadata": {},
   "outputs": [
    {
     "name": "stdout",
     "output_type": "stream",
     "text": [
      "2\n"
     ]
    }
   ],
   "source": [
    "#Aufgabe 3\n",
    "def fibonacci_rec(n: int) -> int:\n",
    "    dict = {}\n",
    "    if n not in dict:\n",
    "        if n<=1:\n",
    "            dict[n]=n\n",
    "        else:\n",
    "            dict[n]=fibonacci_rec(n - 1) + fibonacci_rec(n - 2)\n",
    "        return dict[n]\n",
    "    return dict[n]\n",
    "print(fibonacci_rec(3))\n"
   ]
  }
 ],
 "metadata": {
  "interpreter": {
   "hash": "b9e93e0a25cacffe48b556e398a39ff94fa6565711c04219c5faa76971514662"
  },
  "kernelspec": {
   "display_name": "Python 3.8.5 ('base')",
   "language": "python",
   "name": "python3"
  },
  "language_info": {
   "codemirror_mode": {
    "name": "ipython",
    "version": 3
   },
   "file_extension": ".py",
   "mimetype": "text/x-python",
   "name": "python",
   "nbconvert_exporter": "python",
   "pygments_lexer": "ipython3",
   "version": "3.8.5"
  },
  "orig_nbformat": 4
 },
 "nbformat": 4,
 "nbformat_minor": 2
}
