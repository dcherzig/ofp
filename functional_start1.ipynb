{
 "cells": [
  {
   "cell_type": "markdown",
   "metadata": {},
   "source": [
    "# Functional programing\n",
    "## First steps"
   ]
  },
  {
   "cell_type": "markdown",
   "metadata": {},
   "source": [
    "Easy examples and exercises"
   ]
  },
  {
   "cell_type": "code",
   "execution_count": 10,
   "metadata": {},
   "outputs": [],
   "source": [
    "from functools import reduce"
   ]
  },
  {
   "cell_type": "code",
   "execution_count": 24,
   "metadata": {},
   "outputs": [],
   "source": [
    "def summe(xs: list) ->int:\n",
    "    return reduce(lambda x1, x2: x1+x2, xs, 0)"
   ]
  },
  {
   "cell_type": "markdown",
   "metadata": {},
   "source": []
  },
  {
   "cell_type": "code",
   "execution_count": 25,
   "metadata": {},
   "outputs": [],
   "source": [
    "def add1(a,b):\n",
    "    return a+b\n",
    "\n",
    "def add(a):\n",
    "    def add_a(b):\n",
    "        return a+b\n",
    "    return add_a\n",
    "\n"
   ]
  },
  {
   "cell_type": "code",
   "execution_count": 12,
   "metadata": {},
   "outputs": [],
   "source": [
    "def multiplicate_list(xs: list, k: int) -> list:\n",
    "    return [x * k for x in xs]"
   ]
  },
  {
   "cell_type": "code",
   "execution_count": 13,
   "metadata": {},
   "outputs": [
    {
     "data": {
      "text/plain": [
       "[2, 6, 10, 14]"
      ]
     },
     "execution_count": 13,
     "metadata": {},
     "output_type": "execute_result"
    }
   ],
   "source": [
    "multiplicate_list([1,3,5,7], 2)"
   ]
  },
  {
   "cell_type": "code",
   "execution_count": 22,
   "metadata": {},
   "outputs": [
    {
     "data": {
      "text/plain": [
       "144"
      ]
     },
     "execution_count": 22,
     "metadata": {},
     "output_type": "execute_result"
    }
   ],
   "source": [
    "def my_prod(a, b):\n",
    "    return a*b\n",
    "\n",
    "numbers = [1,2,3,4,6]\n",
    "\n",
    "reduce(my_prod, numbers)\n"
   ]
  },
  {
   "cell_type": "code",
   "execution_count": 54,
   "metadata": {},
   "outputs": [
    {
     "data": {
      "text/plain": [
       "144"
      ]
     },
     "execution_count": 54,
     "metadata": {},
     "output_type": "execute_result"
    }
   ],
   "source": [
    "reduce(lambda a, b: a*b, numbers)\n"
   ]
  },
  {
   "cell_type": "markdown",
   "metadata": {},
   "source": [
    "* anzahl_gerade mit reduce und filter aus einer Liste\n",
    "* eine Funktion curry, die aus Funktionen mit beliebig vielen Parametern eine neue macht, deren erster Parameter fixiert ist\n",
    "* mein_filter nur mit reduce [reduce(function, iterable, initializier)]"
   ]
  },
  {
   "cell_type": "code",
   "execution_count": 81,
   "metadata": {},
   "outputs": [
    {
     "data": {
      "text/plain": [
       "3"
      ]
     },
     "execution_count": 81,
     "metadata": {},
     "output_type": "execute_result"
    }
   ],
   "source": [
    "def anzahl_gerade(xs: list) -> int:\n",
    "    return reduce(lambda a,b: a+1, filter(lambda x: x % 2 == 0, xs),0 )\n",
    "#wieso benötige ich ein b? function of reduce needs two or three inputs\n",
    "\n",
    "def anzahl_gerade1(xs: list) -> int:\n",
    "    return reduce(lambda a,b: a+1, [x for x in xs if x % 2 == 0], 0)\n",
    "#Kombi reduce und comprehension list\n",
    "\n",
    "anzahl_gerade1(numbers)"
   ]
  },
  {
   "cell_type": "code",
   "execution_count": 2,
   "metadata": {},
   "outputs": [
    {
     "data": {
      "text/plain": [
       "11"
      ]
     },
     "execution_count": 2,
     "metadata": {},
     "output_type": "execute_result"
    }
   ],
   "source": [
    "def curry(fct: callable, x: int) -> callable:\n",
    "    return lambda *args: fct(x,*args)\n",
    "\n",
    "#wenn nur zwei Argumente, dann anstelle *args \"a,b\" -> dann darf summe[fct] nur zwei \n",
    "\n",
    "def summe(t,w,y,z): return w+y+z+t\n",
    "\n",
    "test=curry(summe,2) # mit \"2\" weise ich die Variable 2 t zu, daher benötige ich bei test nur 3 Variablen\n",
    "\n",
    "test(2,3,4) # wieso benötigt es 3 Variablen? Siehe Zeile oben\n"
   ]
  },
  {
   "cell_type": "code",
   "execution_count": 37,
   "metadata": {},
   "outputs": [
    {
     "data": {
      "text/plain": [
       "[2, 3, 4, 6]"
      ]
     },
     "execution_count": 37,
     "metadata": {},
     "output_type": "execute_result"
    }
   ],
   "source": [
    "def mein_filter(fct: callable, xs: list) -> list:\n",
    "    return reduce(lambda a, b: a+[b] if fct(b) is True else a, xs, [])\n",
    "    #[] weil ich Liste will\n",
    "\n",
    "def mein_filter1(fct: callable, xs: list) -> list:\n",
    "    return [x for x in xs if fct(x) is True]\n",
    "\n",
    "#def mein_filter2(fct: callable, xs: list) -> list:\n",
    "    #return [f(x) for x in xs] --> gibt mir nur true, false raus\n",
    "\n",
    "mein_filter(lambda x: x>1, numbers)"
   ]
  },
  {
   "cell_type": "markdown",
   "metadata": {},
   "source": [
    "# Fibonacci - Zahlen\n",
    "Jede Fibonacci-Zahl ist also die Summe der beiden vorhergehenden Fibonacci-Zahlen.\n",
    "Der Beginn der Folge lautet: 0, 1, 1, 2, 3, 5, 8, 13, 21 ...\n"
   ]
  },
  {
   "cell_type": "code",
   "execution_count": 5,
   "metadata": {},
   "outputs": [
    {
     "name": "stdout",
     "output_type": "stream",
     "text": [
      "55 177\n"
     ]
    }
   ],
   "source": [
    "cnt = 0 # Um eine Vorstellung zu bekommen, wie oft die Funktion fibonacci_rec (rekursiv) aufgrufen wird, kann man einen Zähler einbauen\n",
    "\n",
    "def fibonacci_rec(n: int) -> int:\n",
    "    global cnt\n",
    "    cnt += 1\n",
    "    return n if n <= 1 else fibonacci_rec(n - 1) + fibonacci_rec(n - 2)\n",
    "print(fibonacci_rec(10), cnt)\n",
    "\n"
   ]
  },
  {
   "cell_type": "markdown",
   "metadata": {},
   "source": [
    "Diskutiere aus der Perspektive der Prinzipien der Funktionalen Programmierung, was beim Programmieren durch Einfügen oder Weglassen einer global-Anweisung ausgedrückt wird. Oder andersherum: \n",
    "Welche bei der Funktionalen Programmierung interessante Eigenschaft hat eine Funktion, die keine\n",
    "global-Anweisung enthält?\n",
    "\n",
    "*global ausserhalb der Funktion definierte Variable kann innerhalb der Funktion nicht modifiziert werden. Rufen wir dieselbe Variable mit global in einer Funktion auf, verändern wir auch den Wert ausserhalb der Funktion (-> global eben). Konkret bedeutet das, wenn wir mit global innerhalb einer Funktion arbeiten, haben wir Nebeneffekte, die wir bei der funktionalen Programmierung nicht haben möchten.*"
   ]
  },
  {
   "cell_type": "markdown",
   "metadata": {},
   "source": [
    "Die Funktion mit diesem Zähler ist nicht pure. Kannst Du diese Funktion so programmieren, dass sie im \n",
    "Sinne der funktionalen Programmierung pure ist? (Tipp: Funktionswerte können mehr als eine Zahl umfassen!)"
   ]
  },
  {
   "cell_type": "code",
   "execution_count": 44,
   "metadata": {},
   "outputs": [
    {
     "name": "stdout",
     "output_type": "stream",
     "text": [
      "(610, 1973)\n"
     ]
    }
   ],
   "source": [
    "#Aufgabe 2\n",
    "\n",
    "def fibonacci_rec(n: int, cnt=0) -> int:\n",
    "    cnt += 1\n",
    "    if n <= 1:\n",
    "        return (n, cnt)\n",
    "    else:\n",
    "        f1, cnt = fibonacci_rec(n - 1, cnt)\n",
    "        f2, cnt = fibonacci_rec(n - 2, cnt)\n",
    "        return f1 + f2, cnt\n",
    "    \n",
    "print(fibonacci_rec(15))\n",
    "\n"
   ]
  },
  {
   "cell_type": "markdown",
   "metadata": {},
   "source": [
    "Ein Vorteil der Funktionalen Programmierung ist, dass Funktionen für dieselben Argumente immer denselben Funktionswert ergeben. Wenn man das weiss, kann die Berechnung der Fibonacci-Zahlen beschleunigt werden, indem einmal berechnete Funktionswerte gespeichert und später bei Bedarf einfach \n",
    "abgerufen werden. Die dafür ideale Datenstruktur ist ein Dictionary mit den Parameter-Werten als key\n",
    "und dem Funktionswert als value. Bei jedem Aufruf der Funktion prüft diese zunächst, ob die angegebenen Parameterwerte bereits im Dictionary enthalten sind. Nur wenn das nicht der Fall ist, wird der Funktionswert tatsächlich berechnet und das Ergebnis dann in das Dictionary eingetragen. Ansonsten kann der \n",
    "im Dictionary gespeicherte Funktionswert direkt und ohne Berechnung retourniert werden."
   ]
  },
  {
   "cell_type": "code",
   "execution_count": 48,
   "metadata": {},
   "outputs": [
    {
     "name": "stdout",
     "output_type": "stream",
     "text": [
      "190392490709135\n",
      "190392490709135\n"
     ]
    }
   ],
   "source": [
    "#Aufgabe 3\n",
    "def fibonacci_rec(n: int, dict={}) -> int:\n",
    "    if n not in dict:\n",
    "        if n<=1:\n",
    "            dict[n]=n\n",
    "        else:\n",
    "            dict[n]=fibonacci_rec(n - 1) + fibonacci_rec(n - 2)\n",
    "        #return dict[n]\n",
    "    return dict[n]\n",
    "print(fibonacci_rec(70))\n",
    "\n",
    "#optimiert:\n",
    "def fibonacci_rec(n: int, dict={0:0, 1:1}) -> int:\n",
    "    if n not in dict:\n",
    "        dict[n]=fibonacci_rec(n - 1) + fibonacci_rec(n - 2)\n",
    "        \n",
    "    return dict[n]\n",
    "print(fibonacci_rec(70))\n"
   ]
  },
  {
   "cell_type": "markdown",
   "metadata": {},
   "source": [
    "Kann der Effizienzgewinn auch erreicht werden, wenn Du nun Deine Lösung von Aufgabe 3 (Dictionary) auch in Deine Lösung zu Aufgabe 2 (pure function mit Zähler) einbaust? Warum (nicht)?\n",
    "Bemerkung: Die Antwort auf diese Frage hängt davon ab, wie genau Du Aufgabe 2 gelöst hast. Überprüfe Deine Überlegung experimentell.\n",
    "Falls der Effizienzgewinn verlorengegangen ist: Wie könntest Du Deine Lösung zu Aufgabe 2 modifizieren, dass der «Speichermechanismus» wieder funktioniert, die Funktion aber pure bleibt (bis auf das \n",
    "Dictionary natürlich)?"
   ]
  },
  {
   "cell_type": "code",
   "execution_count": 50,
   "metadata": {},
   "outputs": [
    {
     "name": "stdout",
     "output_type": "stream",
     "text": [
      "(610, 1973)\n",
      "(190392490709135, 69)\n"
     ]
    }
   ],
   "source": [
    "#Aufgabe 4\n",
    "def fibonacci_rec1(n: int, c=0) -> int: #wieso funktioniert das nicht? --> Dictionary leert sich immer wieder bei Aufruf der Funktion!\n",
    "    dict1 = {}\n",
    "    c += 1\n",
    "    if n<=1:\n",
    "        dict1[n]=n\n",
    "        return (n, c)\n",
    "    if n-2 not in dict1:\n",
    "        dict1[n-2], c = fibonacci_rec1(n - 2, c)         \n",
    "    if n-1 not in dict1:\n",
    "        dict1[n-1], c = fibonacci_rec1(n - 1, c)\n",
    "    return dict1[n-1] + dict1[n-2], c\n",
    "    \n",
    "print(fibonacci_rec1(15))\n",
    "\n",
    "\n",
    "\n",
    "def fibonacci_rec1(n: int, c=0, dict1 = {0:0, 1:1}) -> int: \n",
    "    c += 1\n",
    "    if n-2 not in dict1:\n",
    "        dict1[n-2], c = fibonacci_rec1(n - 2, c, dict1)         \n",
    "    if n-1 not in dict1:\n",
    "        dict1[n-1], c = fibonacci_rec1(n - 1, c, dict1)\n",
    "    return dict1[n-1] + dict1[n-2], c\n",
    "    \n",
    "print(fibonacci_rec1(70))"
   ]
  },
  {
   "cell_type": "code",
   "execution_count": 95,
   "metadata": {},
   "outputs": [
    {
     "data": {
      "text/plain": [
       "43466557686937456435688527675040625802564660517371780402481729089536555417949051890403879840079255169295922593080322634775209689623239873322471161642996440906533187938298969649928516003704476137795166849228875"
      ]
     },
     "execution_count": 95,
     "metadata": {},
     "output_type": "execute_result"
    }
   ],
   "source": [
    "#Aufgabe 5\n",
    "import functools\n",
    "@functools.lru_cache\n",
    "def fibonacci_rec2(n: int) -> int:\n",
    "    return n if n <= 1 else fibonacci_rec2(n - 1) + fibonacci_rec2(n - 2)\n",
    "\n",
    "\n",
    "fibonacci_rec2(1000)\n"
   ]
  },
  {
   "cell_type": "code",
   "execution_count": 39,
   "metadata": {},
   "outputs": [
    {
     "name": "stdout",
     "output_type": "stream",
     "text": [
      "started\n",
      "Hi\n",
      "ended\n"
     ]
    }
   ],
   "source": [
    "#Decorator-Video\n",
    "def f1(func):\n",
    "    def wrapper(*args):\n",
    "        print(\"started\")\n",
    "        func(*args)\n",
    "        print(\"ended\")\n",
    "    return wrapper\n",
    "\n",
    "@f1 #following function is input for the function f1()\n",
    "def f(a):\n",
    "    print(a)\n",
    "\n",
    "f(\"Hi\")\n",
    "\n"
   ]
  },
  {
   "cell_type": "code",
   "execution_count": 53,
   "metadata": {},
   "outputs": [
    {
     "data": {
      "text/plain": [
       "190392490709135"
      ]
     },
     "execution_count": 53,
     "metadata": {},
     "output_type": "execute_result"
    }
   ],
   "source": [
    "#Aufgabe 6\n",
    "def my_cache(func: callable) -> callable:\n",
    "    dict = {}\n",
    "    def wrap(*args):\n",
    "        if args not in dict:\n",
    "            dict[args]=func(*args)\n",
    "        return dict[args]\n",
    "    return wrap\n",
    "\n",
    "@my_cache\n",
    "def fibonacci_rec3(n: int) -> int:\n",
    "    return n if n <= 1 else fibonacci_rec3(n - 1) + fibonacci_rec3(n - 2)\n",
    "\n",
    "fibonacci_rec3(70)"
   ]
  },
  {
   "cell_type": "code",
   "execution_count": 92,
   "metadata": {},
   "outputs": [
    {
     "data": {
      "text/plain": [
       "70330367711422815821835254877183549770181269836358732742604905087154537118196933579742249494562611733487750449241765991088186363265450223647106012053374121273867339111198139373125598767690091902245245323403500"
      ]
     },
     "execution_count": 92,
     "metadata": {},
     "output_type": "execute_result"
    }
   ],
   "source": [
    "#Aufgabe 7\n",
    "\n",
    "def fibonacci_generator(n) -> int:\n",
    "    a = 0\n",
    "    b = 1\n",
    "    for i in range(n):\n",
    "        yield a\n",
    "        a, b = b, a+b\n",
    "\n",
    "def fib_sum_1(n: int) -> int:\n",
    "    sum_ = 0\n",
    "    for i, f in enumerate(fibonacci_generator(n)):\n",
    "        sum_ += f\n",
    "        if i == n:\n",
    "            break\n",
    "    return sum_\n",
    "\n",
    "#fib_sum_1(8) #funktioniert nicht....\n",
    "\n",
    "\n",
    "\n",
    "def fib_sum_2(n: int) -> int:\n",
    "    return sum(f for f in fibonacci_generator(n))\n",
    "\n",
    "fib_sum_2(1000)   #funktioniert\n"
   ]
  },
  {
   "cell_type": "code",
   "execution_count": 89,
   "metadata": {},
   "outputs": [
    {
     "data": {
      "text/plain": [
       "68"
      ]
     },
     "execution_count": 89,
     "metadata": {},
     "output_type": "execute_result"
    }
   ],
   "source": [
    "#Aufgabe 8\n",
    "def squares_of_even_fibonacci(n: int) -> int:\n",
    "    return sum(f*f for f in fibonacci_generator(n) if f%2 == 0) #Achtung Klammer um die Summe!!!\n",
    "\n",
    "squares_of_even_fibonacci(8)"
   ]
  },
  {
   "cell_type": "code",
   "execution_count": 94,
   "metadata": {},
   "outputs": [
    {
     "data": {
      "text/plain": [
       "43466557686937456435688527675040625802564660517371780402481729089536555417949051890403879840079255169295922593080322634775209689623239873322471161642996440906533187938298969649928516003704476137795166849228875"
      ]
     },
     "execution_count": 94,
     "metadata": {},
     "output_type": "execute_result"
    }
   ],
   "source": [
    "#Aufgabe 9\n",
    "def fibonacci_rec1(n: int, c=0, dict1 = {0:0, 1:1}) -> int: \n",
    "    c += 1\n",
    "    if n-2 not in dict1:\n",
    "        dict1[n-2], c = fibonacci_rec1(n - 2, c, dict1)         \n",
    "    if n-1 not in dict1:\n",
    "        dict1[n-1], c = fibonacci_rec1(n - 1, c, dict1)\n",
    "    return dict1[n-1] + dict1[n-2], c\n",
    "\n",
    "#Aufgabe 9\n",
    "#Es funktionieren alle Funktionen, die einen Dictionary nutzen, egal ob mit decorator, mit generator oder rekursiv.\n",
    "#fibonacci_rec1(1000)\n",
    "fibonacci_rec3(1000)"
   ]
  },
  {
   "cell_type": "code",
   "execution_count": 6,
   "metadata": {},
   "outputs": [
    {
     "name": "stdout",
     "output_type": "stream",
     "text": [
      "[5, 9, 11]\n"
     ]
    }
   ],
   "source": [
    "import statistics\n",
    "    \n",
    "data = [5, 71, 9, 11]\n",
    "avg = statistics.mean(data)\n",
    "result = filter(lambda x: x< avg, data)\n",
    "print(list(result))"
   ]
  },
  {
   "cell_type": "code",
   "execution_count": 11,
   "metadata": {},
   "outputs": [
    {
     "data": {
      "text/plain": [
       "35145"
      ]
     },
     "execution_count": 11,
     "metadata": {},
     "output_type": "execute_result"
    }
   ],
   "source": [
    "data = [5, 71, 9, 11]\n",
    "multiplier = lambda x, y: x*y\n",
    "reduce(multiplier, data)\n",
    "\n"
   ]
  }
 ],
 "metadata": {
  "kernelspec": {
   "display_name": "Python 3.8.5 ('base')",
   "language": "python",
   "name": "python3"
  },
  "language_info": {
   "codemirror_mode": {
    "name": "ipython",
    "version": 3
   },
   "file_extension": ".py",
   "mimetype": "text/x-python",
   "name": "python",
   "nbconvert_exporter": "python",
   "pygments_lexer": "ipython3",
   "version": "3.8.5"
  },
  "orig_nbformat": 4,
  "vscode": {
   "interpreter": {
    "hash": "0c223d57c7189d54549835f7c8303e9ddeb2644bc2548f67a90629b42846d118"
   }
  }
 },
 "nbformat": 4,
 "nbformat_minor": 2
}
